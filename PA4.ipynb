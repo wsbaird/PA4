{
 "cells": [
  {
   "cell_type": "code",
   "execution_count": 6,
   "metadata": {},
   "outputs": [
    {
     "name": "stdout",
     "output_type": "stream",
     "text": [
      "[2, 5, 3, 4]\n",
      "[4, 5, 3, 2]\n"
     ]
    }
   ],
   "source": [
    "import random as rand\n",
    "\n",
    "def swapfirstlast(alist):\n",
    "    var1 = alist[0]\n",
    "    var2 = alist[-1]\n",
    "    alist[0] = var2\n",
    "    alist[-1]= var1\n",
    "    return alist\n",
    "\n",
    "x = [rand.randint(1,5),rand.randint(1,5),rand.randint(1,5),rand.randint(1,5)]\n",
    "print (x)\n",
    "swapfirstlast(x)\n",
    "print(x)"
   ]
  },
  {
   "cell_type": "code",
   "execution_count": 28,
   "metadata": {},
   "outputs": [
    {
     "name": "stdout",
     "output_type": "stream",
     "text": [
      "[94, 26, 4, 1, 21]\n",
      "[1, 1, 1, -1, -1]\n"
     ]
    }
   ],
   "source": [
    "def encode(alist):\n",
    "    for num, item in enumerate(alist):\n",
    "        if item % 2 == 0:\n",
    "            alist[num] = 1\n",
    "        else:\n",
    "            alist[num] = -1\n",
    "            \n",
    "x = [rand.randint(1, 100), rand.randint(1, 100), rand.randint(1, 100), rand.randint(1, 100), rand.randint(1, 100)]\n",
    "print(x)\n",
    "encode(x)\n",
    "print (x)"
   ]
  },
  {
   "cell_type": "code",
   "execution_count": 57,
   "metadata": {},
   "outputs": [
    {
     "name": "stdout",
     "output_type": "stream",
     "text": [
      "('Mario', 'Luigi', 'Bowser')\n"
     ]
    },
    {
     "data": {
      "text/plain": [
       "('Luigi', 'Bowser', 'Mario')"
      ]
     },
     "execution_count": 57,
     "metadata": {},
     "output_type": "execute_result"
    }
   ],
   "source": [
    "import itertools\n",
    "\n",
    "def rotate(x):\n",
    "    var1 = x[0]\n",
    "    var2 = x[1]\n",
    "    var3 = x[2]\n",
    "    newtup = (var2, var3, var1)\n",
    "    y = tuple(newtup)\n",
    "    x = y\n",
    "    return x\n",
    "\n",
    "atuple = (\"Mario\", \"Luigi\", \"Bowser\")\n",
    "print (atuple)\n",
    "rotate(atuple)"
   ]
  },
  {
   "cell_type": "code",
   "execution_count": null,
   "metadata": {},
   "outputs": [],
   "source": []
  }
 ],
 "metadata": {
  "kernelspec": {
   "display_name": "Python 3",
   "language": "python",
   "name": "python3"
  },
  "language_info": {
   "codemirror_mode": {
    "name": "ipython",
    "version": 3
   },
   "file_extension": ".py",
   "mimetype": "text/x-python",
   "name": "python",
   "nbconvert_exporter": "python",
   "pygments_lexer": "ipython3",
   "version": "3.8.3"
  }
 },
 "nbformat": 4,
 "nbformat_minor": 4
}
